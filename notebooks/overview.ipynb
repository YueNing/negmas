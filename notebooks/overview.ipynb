{
 "cells": [
  {
   "cell_type": "markdown",
   "metadata": {
    "collapsed": true
   },
   "source": [
    "# Overview\n",
    "\n",
    "negmas was designed mainly to support multi-strand multilateral multi-issue negotiations with complex utility\n",
    "functions. This section gives an introduction to the main concepts of the public interface.\n",
    "\n",
    "In order to use the library you will need to import it as follows (assuming that you followed the instructions in the installation section of this document):"
   ]
  },
  {
   "cell_type": "code",
   "execution_count": 1,
   "metadata": {},
   "outputs": [],
   "source": [
    "# This is to make the results reproducible if you are using the Jupyter notebook version.\n",
    "from random import seed\n",
    "seed(0)\n",
    "import negmas"
   ]
  },
  {
   "cell_type": "markdown",
   "metadata": {},
   "source": [
    "## Organization\n",
    "\n",
    "The package is organized into a set of modules the combine together related functionality. In general there are *base* modules that implement the most general abstractions and concepts and then *specialized* modules that implement the computational structures needed for a specific application or research domain:\n",
    "\n",
    "* **Base Modules** These are the most general modules and all other *specialized* modules use the computational resources defined here. The base modules provided in this version are:\n",
    "    1. **outcomes** This module represents issues, outcome and responses and provides basic functions and methods to operator with and on them.\n",
    "    1. **utilities** This modules represents the base type of all utilities and different widely used utility function types including linear and nonlinear utilities and constraint-based utilities.\n",
    "    1. **negotiators** This module represents basic negotiation agent implementation and provide basic interfaces to be overriden (implemented) by higher specialized modules\n",
    "    1. **mechanisms** This module represents the most basic conceptual view of a negotiation protocol supporting both mediate and unmediated mechanisms. The term `mechanism` was used  instead of the more common `protocol` to stress the fact that this mechanism need not be a standard negotiation protocol. For example auction mechanisms (like second-price auctions) can easily be implemented in this package.\n",
    "    1. **opponent_models** This module provides the basic interface for all opponent models.\n",
    "    1. **situated** This module implements world simulations within which agents with intrinsic utilty functions can engage in simulataneous connected situated negotiations. It is the most important module for the goals of this library.\n",
    "    1. **Helper Modules** These modules provide basic activities that is not directly related to the negotiation but that are relied upon by different base modules. The end user is not expected to interact directly with these modules.\n",
    "        * **common** Provides common interfaces that are used by all other modules. \n",
    "        * **generics** Provides a set of types and interfaces to increase the representation flexibility of different base modules. \n",
    "        * **helpers** Various helper functions and classes used throughout the library including mixins for logging.\n",
    "        \n",
    "* **App Modules** This namespace provides the modules needed to run different *apps* that represent worlds within which negotiations take place.\n",
    "    1. **scml** The Supply Chain Management App as defined for the SCM leage of ANAC 2019 competition.\n",
    "    \n",
    "To simplify the use of this library, all classes and functions from all base modules are aliased in the root package (except generics and helpers). This is an example of importing just `Outcome`"
   ]
  },
  {
   "cell_type": "code",
   "execution_count": 2,
   "metadata": {},
   "outputs": [],
   "source": [
    "from negmas import Outcome"
   ]
  },
  {
   "cell_type": "markdown",
   "metadata": {},
   "source": [
    "It is possible to just import everything in the package using:"
   ]
  },
  {
   "cell_type": "code",
   "execution_count": 3,
   "metadata": {},
   "outputs": [],
   "source": [
    "from negmas import *"
   ]
  },
  {
   "cell_type": "markdown",
   "metadata": {},
   "source": [
    "As usual you can just import everything in a separate namespace using:"
   ]
  },
  {
   "cell_type": "code",
   "execution_count": 4,
   "metadata": {},
   "outputs": [],
   "source": [
    "import negmas"
   ]
  },
  {
   "cell_type": "markdown",
   "metadata": {},
   "source": [
    "## Issues, Outcomes, and Responses\n",
    "\n",
    "Negotiations are conducted between mutliple agents with the goal of achieving an *agreement* (usually called a contract) on one of several possible outcomes. Each *outcome* is in general an assignment to some value to a set of issues. Each *issue* is a variable that can take one of a -- probably infinit -- set of values from some predefined *domain*.\n",
    "\n",
    "The classes and funtions supporting management of issues, outcomes and responses are combined in the `outcomes` module.\n",
    "\n",
    "To directly handle issues, outcomes and responses; you need to import the `outcomes` modules. To simplify the code snippets in this overview, we will just import everything in this module but you can of course be selective"
   ]
  },
  {
   "cell_type": "markdown",
   "metadata": {},
   "source": [
    "### Issues\n",
    "Issues are represented in ``negmas`` using the issue class. An issue is defined by a set of ``values`` and a ``name``. It can be created as follows: \n",
    "\n",
    "* Using a set of strings:"
   ]
  },
  {
   "cell_type": "code",
   "execution_count": 5,
   "metadata": {},
   "outputs": [
    {
     "name": "stdout",
     "output_type": "stream",
     "text": [
      "ujsOSObZD5IZoGjd: ['to be', 'not to be']\n",
      "The Problem: ['to be', 'not to be']\n"
     ]
    }
   ],
   "source": [
    "# an issue with randomly assigned name\n",
    "issue1 = Issue(values=['to be', 'not to be'])\n",
    "print(issue1)\n",
    "# an issue with given name:\n",
    "issue2 = Issue(values=['to be', 'not to be'], name='The Problem')\n",
    "print(issue2)"
   ]
  },
  {
   "cell_type": "markdown",
   "metadata": {},
   "source": [
    "* Using a single integer to give an issue which takes any value from `0` to the given integer minus 1:"
   ]
  },
  {
   "cell_type": "code",
   "execution_count": 6,
   "metadata": {},
   "outputs": [
    {
     "name": "stdout",
     "output_type": "stream",
     "text": [
      "number of items: (0, 9)\n"
     ]
    }
   ],
   "source": [
    "issue3 = Issue(values=10, name='number of items')\n",
    "print(issue3)"
   ]
  },
  {
   "cell_type": "markdown",
   "metadata": {},
   "source": [
    "* Using a `tuple` with a lower and upper real-valued boundaries to give an issue with an infinite number of possibilities (all real numbers in between)"
   ]
  },
  {
   "cell_type": "code",
   "execution_count": 7,
   "metadata": {},
   "outputs": [
    {
     "name": "stdout",
     "output_type": "stream",
     "text": [
      "cost: (0.0, 1.0)\n"
     ]
    }
   ],
   "source": [
    "issue4 = Issue(values=(0.0, 1.0), name='cost')\n",
    "print(issue4)"
   ]
  },
  {
   "cell_type": "markdown",
   "metadata": {},
   "source": [
    "The `Issue` class provides some useful functions. For example you can find the ``cardinality`` of any issue using:"
   ]
  },
  {
   "cell_type": "code",
   "execution_count": 12,
   "metadata": {},
   "outputs": [
    {
     "data": {
      "text/plain": [
       "[2, 10, inf]"
      ]
     },
     "execution_count": 12,
     "metadata": {},
     "output_type": "execute_result"
    }
   ],
   "source": [
    "[issue2.cardinality, issue3.cardinality, issue4.cardinality]"
   ]
  },
  {
   "cell_type": "markdown",
   "metadata": {},
   "source": [
    "It is also possible to check the `type` of the issue and whether it is discrete or continuous:"
   ]
  },
  {
   "cell_type": "code",
   "execution_count": 13,
   "metadata": {},
   "outputs": [
    {
     "data": {
      "text/plain": [
       "['discrete', True, False]"
      ]
     },
     "execution_count": 13,
     "metadata": {},
     "output_type": "execute_result"
    }
   ],
   "source": [
    "[issue2.type, issue2.is_discrete(), issue2.is_continuous()]"
   ]
  },
  {
   "cell_type": "markdown",
   "metadata": {},
   "source": [
    "It is possible to check the total cardinality for a set of issues (with the usual `-1` encoding infinity):"
   ]
  },
  {
   "cell_type": "code",
   "execution_count": 15,
   "metadata": {},
   "outputs": [
    {
     "data": {
      "text/plain": [
       "[inf, 40]"
      ]
     },
     "execution_count": 15,
     "metadata": {},
     "output_type": "execute_result"
    }
   ],
   "source": [
    "[Issue.num_outcomes([issue1, issue2, issue3, issue4]), # expected -1 because of issue4\n",
    " Issue.num_outcomes([issue1, issue2, issue3])] # expected 40 = 2 * 2 * 4"
   ]
  },
  {
   "cell_type": "markdown",
   "metadata": {},
   "source": [
    "You can pick random valid or invalid values for the issue:"
   ]
  },
  {
   "cell_type": "code",
   "execution_count": 16,
   "metadata": {},
   "outputs": [
    {
     "data": {
      "text/plain": [
       "[['to be', '20191204H150950767460YFBbBciGto be20191204H1509507675026Qo5hsNR'],\n",
       " ['to be',\n",
       "  '20191204H150950767526EOD79Q2cnot to be20191204H150950767559yWWU2KHE'],\n",
       " [7, 16],\n",
       " [0.372449262972256, 1.6379287837318206]]"
      ]
     },
     "execution_count": 16,
     "metadata": {},
     "output_type": "execute_result"
    }
   ],
   "source": [
    "[\n",
    "    [issue1.rand_valid(), issue1.rand_invalid()],\n",
    "    [issue2.rand_valid(), issue2.rand_invalid()],\n",
    "    [issue3.rand_valid(), issue3.rand_invalid()],\n",
    "    [issue4.rand_valid(), issue4.rand_invalid()],\n",
    "]"
   ]
  },
  {
   "cell_type": "markdown",
   "metadata": {},
   "source": [
    "You can also list all valid values for an issue using `all`. Notice that this property is a generator so it is memory efficient for the case when an issue has many values."
   ]
  },
  {
   "cell_type": "code",
   "execution_count": 17,
   "metadata": {},
   "outputs": [
    {
     "name": "stdout",
     "output_type": "stream",
     "text": [
      "['to be', 'not to be']\n",
      "['to be', 'not to be']\n",
      "[0, 1, 2, 3, 4, 5, 6, 7, 8, 9]\n",
      "Cannot return all possibilities of a continuous/uncountable issue\n"
     ]
    }
   ],
   "source": [
    "print(list(issue1.all))\n",
    "print(list(issue2.all))\n",
    "print(list(issue3.all))\n",
    "try:\n",
    "    print(list(issue4.all))\n",
    "except ValueError as e:\n",
    "    print(e)"
   ]
  },
  {
   "cell_type": "markdown",
   "metadata": {},
   "source": [
    "### Outcomes\n",
    "Now that we know how to define issues, defining outcomes from a negotiation is even simpler. An outcome can be any python `mapping` or `iterable` with a known length. That includes dictionaries, lists, tuples among many other. \n",
    "\n",
    "Here is how to define an outcome for the last three issues mentioned above:"
   ]
  },
  {
   "cell_type": "code",
   "execution_count": 18,
   "metadata": {},
   "outputs": [],
   "source": [
    "valid_outcome = {'The Problem': 'to be', 'number of items': 5, 'cost': 0.15}\n",
    "invalid_outcome = {'The Problem': 'to be', 'number of items': 10, 'cost': 0.15}"
   ]
  },
  {
   "cell_type": "markdown",
   "metadata": {},
   "source": [
    "Notice that the ``invalid_outcome`` is assigning a value of ``10`` to the ``number of items`` issue which is not an acceptable value (``cost`` ranges between ``0`` and ``9``).\n",
    "\n",
    "Because `outcomes` can be represented with many builtin collection classes, the only common ancestor of all outcome objects is the `object` class. Nevertheless, the `outcomes` module provide a type-alias `Outcome` that can be used for static type checking if needed. The `outcomes` module also provides some functions for dealing with `outcome` objects in relation to `Issue`s. These are some examples:"
   ]
  },
  {
   "cell_type": "code",
   "execution_count": 19,
   "metadata": {},
   "outputs": [
    {
     "data": {
      "text/plain": [
       "[True, False]"
      ]
     },
     "execution_count": 19,
     "metadata": {},
     "output_type": "execute_result"
    }
   ],
   "source": [
    "[ outcome_is_valid(valid_outcome, [issue2, issue3, issue4])       # valid giving True\n",
    ", outcome_is_valid(invalid_outcome, [issue2, issue3, issue4])]    # invalid giving False"
   ]
  },
  {
   "cell_type": "markdown",
   "metadata": {},
   "source": [
    "It is not necessary for an outcome to assign a value for *all* issues to be considered *valid*. For example the following outcomes are all valid for the last three issues given above:\n"
   ]
  },
  {
   "cell_type": "code",
   "execution_count": 20,
   "metadata": {},
   "outputs": [
    {
     "data": {
      "text/plain": [
       "[True, True]"
      ]
     },
     "execution_count": 20,
     "metadata": {},
     "output_type": "execute_result"
    }
   ],
   "source": [
    "[ outcome_is_valid({'The Problem': 'to be'}, [issue2, issue3, issue4])\n",
    ", outcome_is_valid({'The Problem': 'to be', 'number of items': 5}, [issue2, issue3, issue4])\n",
    "]"
   ]
  },
  {
   "cell_type": "markdown",
   "metadata": {},
   "source": [
    "It is also important for some applications to check if an outcome is `complete` in the sense that it assigns a *valid* value to every issue in the given set of issues. This can be done using the `outcome_is_complete` function:"
   ]
  },
  {
   "cell_type": "code",
   "execution_count": 21,
   "metadata": {},
   "outputs": [
    {
     "data": {
      "text/plain": [
       "[True, False, False]"
      ]
     },
     "execution_count": 21,
     "metadata": {},
     "output_type": "execute_result"
    }
   ],
   "source": [
    "[ outcome_is_complete(valid_outcome, [issue2, issue3, issue4])       # complete -> True\n",
    ", outcome_is_complete(invalid_outcome, [issue2, issue3, issue4])  # invalid -> incomplete -> False\n",
    ", outcome_is_complete({'The Problem': 'to be'}, [issue2, issue3, issue4])  # incomplete -> False  \n",
    "]"
   ]
  },
  {
   "cell_type": "markdown",
   "metadata": {},
   "source": [
    "It is sometimes tedius to keep track of issue names in dictionaries. For this reason, the library provides a type called *OutcomeType*. Inheriting your dataclass from an OutcomeType will allow it to act both as a dict and a normal dot accessible object:"
   ]
  },
  {
   "cell_type": "code",
   "execution_count": 22,
   "metadata": {},
   "outputs": [],
   "source": [
    "from dataclasses import dataclass\n",
    "@dataclass\n",
    "class MyOutcome(OutcomeType):\n",
    "    problem: bool\n",
    "    price: float\n",
    "    quantity: int"
   ]
  },
  {
   "cell_type": "markdown",
   "metadata": {},
   "source": [
    "Now you can use objects of MyOutcome as normal outcomes"
   ]
  },
  {
   "cell_type": "code",
   "execution_count": 23,
   "metadata": {},
   "outputs": [],
   "source": [
    "issues = [Issue(['to be', 'not to be'], name='problem')\n",
    "          , Issue((0.0, 3.0), name='price')\n",
    "          , Issue(5, name='quantity')]"
   ]
  },
  {
   "cell_type": "code",
   "execution_count": 24,
   "metadata": {},
   "outputs": [
    {
     "name": "stdout",
     "output_type": "stream",
     "text": [
      "MyOutcome(problem='to be', price=2.994358541523904, quantity=3)\n",
      "MyOutcome(problem='not to be', price=2.702365619666316, quantity=3)\n",
      "MyOutcome(problem='to be', price=1.0535014988939553, quantity=4)\n",
      "MyOutcome(problem='not to be', price=1.693743551392433, quantity=3)\n",
      "MyOutcome(problem='to be', price=1.8237347215154869, quantity=4)\n"
     ]
    }
   ],
   "source": [
    "outcomes = Issue.sample(issues, n_outcomes = 5, astype=MyOutcome)\n",
    "for _ in outcomes:\n",
    "    print(_)\n"
   ]
  },
  {
   "cell_type": "markdown",
   "metadata": {},
   "source": [
    "The *sample* function created objects of type MyOutcome that can be accessed using either the dot notation or as a dict"
   ]
  },
  {
   "cell_type": "code",
   "execution_count": 25,
   "metadata": {},
   "outputs": [
    {
     "name": "stdout",
     "output_type": "stream",
     "text": [
      "2.994358541523904\n",
      "2.994358541523904\n",
      "2.994358541523904\n"
     ]
    }
   ],
   "source": [
    "print(outcomes[0].price)\n",
    "print(outcomes[0]['price'])\n",
    "print(outcomes[0].get('price', None))"
   ]
  },
  {
   "cell_type": "markdown",
   "metadata": {},
   "source": [
    "OutcomeType is intended to be used as a syntactic sugar around your outcome objects but it provides almost no functionality above a dict."
   ]
  },
  {
   "cell_type": "markdown",
   "metadata": {},
   "source": [
    "### Outcome Ranges and constraints\n",
    "Sometimes, it is important to represent not only a single outcome but a range of outcomes. This can be represented using an `OutcomeRange`. Again, an outcome range can be almost any `mapping` or `iterable` in python including dictionaries, lists, tuples, etc with the only exception that the values stored in it can be not only `int`, `str`, `float` but also `tuple`s of two of any of them representing a range. This is easier shown:"
   ]
  },
  {
   "cell_type": "code",
   "execution_count": 26,
   "metadata": {},
   "outputs": [],
   "source": [
    "range1 = {'The Problem': ['to be', 'not to be'], 'number of items': 5, 'cost': (0.1, 0.2)}"
   ]
  },
  {
   "cell_type": "markdown",
   "metadata": {},
   "source": [
    "``range1`` represents the following range of outcomes:\n",
    "\n",
    "* **The Problem**: accepts both ``to be`` and ``not to be``\n",
    "\n",
    "* **number of items**: accepts only the value ``5``\n",
    "\n",
    "* **cost**: accepts any real number between ``0.1`` and ``0.2`` up to representation error\n",
    "\n",
    "It is easy to check whether a specific outcome is within a given range:"
   ]
  },
  {
   "cell_type": "code",
   "execution_count": 27,
   "metadata": {},
   "outputs": [
    {
     "data": {
      "text/plain": [
       "[True, False]"
      ]
     },
     "execution_count": 27,
     "metadata": {},
     "output_type": "execute_result"
    }
   ],
   "source": [
    "outcome1 = {'The Problem': 'to be', 'number of items': 5, 'cost': 0.15}\n",
    "outcome2 = {'The Problem': 'to be', 'number of items': 10, 'cost': 0.15}\n",
    "[ outcome_in_range(outcome1, range1)        # True\n",
    ", outcome_in_range(outcome2, range1)        # False\n",
    "]       "
   ]
  },
  {
   "cell_type": "markdown",
   "metadata": {},
   "source": [
    "In general outcome ranges constraint outcomes depending on the type of the constraint:\n",
    "\n",
    "* **tuple** The outcome must fall within the range specified by the first and second elements. Only valid for values that can be compared using `__lt__` (e.g. int, float, str).\n",
    "* **single value** The outcome must equal this given value.\n",
    "* **list of values** The outcome must be within the list.\n",
    "* **list of tuples** The outcome must fall within one of the ranges specified by the tuples.\n",
    "\n"
   ]
  },
  {
   "cell_type": "markdown",
   "metadata": {},
   "source": [
    "### Responses\n",
    "\n",
    "When negotiations are run, agents are allowed to respond to given offers for the final contract. An offer is simple an outcome (either complete or incomplete depending on the protocol but it is always valid). Agents can then respond with one of the values defined by the `Response` enumeration in the `outcomes` module. Currently these are:\n",
    "\n",
    "* **ACCEPT_OFFER** Accepts the offer.\n",
    "* **REJECT_OFFER** Rejects the offer.\n",
    "* **END_NEGOTIATION** This implies rejection of the offer and further more indicates that the agent is not willing to continue with the negotiation. The protocol is free to handle this situation. It may just end the negotiation with no agreement, may just remove the agent from the negotiation and keep it running with the remaining agents (if that makes sense) or just gives the agent a second chance by treating it as just a ``REJECT_OFFER`` case. In most case the first response (just end the negotiation) is expected.\n",
    "* **NO_RESPONSE** Making no response at all. This is usually not allowed by negotiation protocols and will be considered a protocol violation in most cases. Nevertheless, negotiation protocols are free to handle this response when it arise in any way."
   ]
  },
  {
   "cell_type": "markdown",
   "metadata": {},
   "source": [
    "## Utilities\n",
    "Agents engage in negotiations to maximize their utility. That is the central dogma in negotiation research. `negmas` allows the user to define their own utility functions based on a set of predefined base classes that can be found in the `utilities` module.\n"
   ]
  },
  {
   "cell_type": "markdown",
   "metadata": {},
   "source": [
    "### Utility Values\n",
    "In most applications, utility values can be represented by real numbers. Nevertheless, some applications need a more complicated representation. For example, during utility elicitation (the process of learning about the utility function of the human being represented by the agent) or opponent modeling (the process of learning about the utility function of an opponent), the need may arise to represent a probability distribution over utilities. \n",
    "\n",
    "`negmas` allows all functions that receive a utility value to receive a utility distribution. This is achieved through the use of two basic type definitions:\n",
    "\n",
    "* `UtilityDistribution` That is a probability `Distribution` class capable of representing probabilistic variables having both continuous and discrete distributions and applying basic operations on them (addition, subtraction and multiplication). Currently we use `scipy.stats` for modeling these distributions but this is an implementation detail that should not be relied upon as it is likely that the probabilistic framework will be changed in the future to enhance the flexibility of the package and its integration with other probabilistic modeling packages (e.g. PyMC3).\n",
    "\n",
    "* `UtilityValue` This is the input and output type used whenever a utility value is to be represented in the whole package. It is defined as a union of a real value and a `UtilityDistribution` (`Union[float, UtilityDistribution]`). This way, it is possible to pass utility distributions to most functions expecting (or returning) a utility value including utility functions. \n",
    "\n",
    "This means that both of the following are valid utility values"
   ]
  },
  {
   "cell_type": "code",
   "execution_count": 28,
   "metadata": {},
   "outputs": [
    {
     "name": "stdout",
     "output_type": "stream",
     "text": [
      "1.0\n",
      "norm(loc:0.0, scale:1.0)\n"
     ]
    }
   ],
   "source": [
    "u1 = 1.0\n",
    "u2 = UtilityDistribution(dtype='norm')   # standard normal distribution\n",
    "print(u1)\n",
    "print(u2)"
   ]
  },
  {
   "cell_type": "markdown",
   "metadata": {},
   "source": [
    "### Utility Functions\n"
   ]
  },
  {
   "cell_type": "markdown",
   "metadata": {},
   "source": [
    "Utility functions are entities that take an `Outcome` and return its `UtilityValue`. There are many types of utility functions defined in the literature. In this package, the base of all utiliy functions is the `UtilityFunction` class which is defined in the `utilities` module. It behaves like a standard python `Callable` which can be called with a single `Outcome` object (i.e. a dictionary, list, tuple etc representing an outcome) and returns a `UtilityValue`. This allows utility functions to return a distribution instead of a single utility value.\n",
    "\n",
    "Utility functions in `negmas` have a helper `property` called `type` which returns the type of the utility function and a helper function `eu` for returning the expected utility of a given outcome which is guaranteed to return a real number (`float`) even if the utiliy function itself is returning a utility distribution.\n",
    "\n",
    "To implement a specific utility function, you need to override the single `__call__` function provided in the `UtilityFunction` abstract interface. This is a simple example:\n"
   ]
  },
  {
   "cell_type": "code",
   "execution_count": 29,
   "metadata": {},
   "outputs": [
    {
     "data": {
      "text/plain": [
       "[None, 30.0]"
      ]
     },
     "execution_count": 29,
     "metadata": {},
     "output_type": "execute_result"
    }
   ],
   "source": [
    "class ConstUtilityFunction(UtilityFunction):\n",
    "   def __call__(self, offer):\n",
    "        try:\n",
    "            return 3.0 * offer['cost'] \n",
    "        except KeyError:  # No value was given to the cost\n",
    "            return None\n",
    "    \n",
    "   def xml(self):\n",
    "        return '<ufun const=True value=3.0></ufun>'\n",
    "\n",
    "f = ConstUtilityFunction()\n",
    "[f({'The Problem': 'to be'}), f({'cost': 10})]"
   ]
  },
  {
   "cell_type": "markdown",
   "metadata": {},
   "source": [
    "Utility functions can store internal state and use it to return different values for the same outcome over time allowing for dynamic change or evolution of them during negotiations. For example this *silly* utility function responds to the mood of the user:"
   ]
  },
  {
   "cell_type": "code",
   "execution_count": 30,
   "metadata": {},
   "outputs": [
    {
     "name": "stdout",
     "output_type": "stream",
     "text": [
      "Utility in good mood of {'cost': 10.0} is 10.0\n",
      "Utility in bad mood of {'cost': 10.0} is 1.0\n",
      "Utility in good mood of {'cost': 10.0} is None\n"
     ]
    }
   ],
   "source": [
    "class MoodyUtilityFunction(UtilityFunction):\n",
    "    def __init__(self, mood='good'):\n",
    "        super().__init__()\n",
    "        self.mood = mood\n",
    "        \n",
    "    def __call__(self, offer):\n",
    "        return float(offer['cost']) if self.mood == 'good'\\\n",
    "                            else 0.1 * offer['cost'] if self.mood == 'bad' \\\n",
    "                            else None \n",
    "    def set_mood(self, mood):\n",
    "        self.mood = mood\n",
    "    \n",
    "    def xml(self):\n",
    "        pass\n",
    "\n",
    "offer = {'cost': 10.0}\n",
    "\n",
    "f = MoodyUtilityFunction()\n",
    "# I am in a good mode now\n",
    "print(f'Utility in good mood of {offer} is {f(offer)}')\n",
    "f.set_mood('bad')\n",
    "print(f'Utility in bad mood of {offer} is {f(offer)}')\n",
    "f.set_mood('undecided')\n",
    "print(f'Utility in good mood of {offer} is {f(offer)}')"
   ]
  },
  {
   "cell_type": "markdown",
   "metadata": {},
   "source": [
    "Notice that (as the last example shows) utility functions can return `None` to indicate that the utility value cannot be inferred for this outcome/offer.\n",
    "\n",
    "The package provides a set of predefined utility functions representing most widely used types. The following subsections describe them briefly:\n"
   ]
  },
  {
   "cell_type": "markdown",
   "metadata": {},
   "source": [
    "### Linear Aggregation Utility Functions\n",
    "The `LinearAggregationUtilityFunction` class represents a function that linearly aggregate utilities assigned to issues in the given outcome which can be defined mathematically as follows:\n",
    "\n",
    "\\begin{equation}\n",
    "U(o) = \\sum_{i=0}^{\\left|o\\right|}{w_i\\times g_i(o_i)}\n",
    "\\end{equation}\n",
    "\n",
    "where $o$ is an outcome, $w$ is a real-valued weight vector and $g$ is a vector of functions each mapping one issue of the outcome to some real-valued number (utility of this issue).\n",
    "\n",
    "Notice that despite the name, this type of utiliy functions can represent nonlinear relation between issue values and utility values. The linearity is in how these possibly nonlinear mappings are being combind to generate a utility value for the outcome.\n",
    "\n",
    "For example, the following utility function represents the utility of `buyer` who wants low cost, many items, and prefers delivery:"
   ]
  },
  {
   "cell_type": "code",
   "execution_count": 31,
   "metadata": {},
   "outputs": [],
   "source": [
    "buyer_utility = LinearUtilityAggregationFunction({'price': lambda x: - x\n",
    "                           , 'number of items': lambda x: 0.5 * x\n",
    "                           , 'delivery': {'delivered': 1.0, 'not delivered': 0.0}})"
   ]
  },
  {
   "cell_type": "markdown",
   "metadata": {},
   "source": [
    "Given this definition of utility, we can easily calculate the utility of different options:"
   ]
  },
  {
   "cell_type": "code",
   "execution_count": 32,
   "metadata": {},
   "outputs": [
    {
     "name": "stdout",
     "output_type": "stream",
     "text": [
      "0.5\n"
     ]
    }
   ],
   "source": [
    "print(buyer_utility({'price': 1.0, 'number of items': 3, 'delivery': 'not delivered'}))"
   ]
  },
  {
   "cell_type": "markdown",
   "metadata": {},
   "source": [
    "Now what happens if we offer to deliver the items:"
   ]
  },
  {
   "cell_type": "code",
   "execution_count": 33,
   "metadata": {},
   "outputs": [
    {
     "name": "stdout",
     "output_type": "stream",
     "text": [
      "1.5\n"
     ]
    }
   ],
   "source": [
    "print(buyer_utility({'price': 1.0, 'number of items': 3, 'delivery': 'delivered'}))"
   ]
  },
  {
   "cell_type": "markdown",
   "metadata": {},
   "source": [
    "And if delivery was accompanied with an increase in price"
   ]
  },
  {
   "cell_type": "code",
   "execution_count": 34,
   "metadata": {},
   "outputs": [
    {
     "name": "stdout",
     "output_type": "stream",
     "text": [
      "0.7\n"
     ]
    }
   ],
   "source": [
    "print(buyer_utility({'price': 1.8, 'number of items': 3, 'delivery': 'delivered'}))"
   ]
  },
  {
   "cell_type": "markdown",
   "metadata": {},
   "source": [
    "It is clear that this buyer will still accept that increase of price from ``'1.0'`` to ``'1.8``' if it is accompanied with the delivery option."
   ]
  },
  {
   "cell_type": "markdown",
   "metadata": {},
   "source": [
    "### Nonlinear Aggregation Utility Functions\n",
    "A direct generalization of the linear agggregation utility functions is provided by the `NonLinearAggregationUtilityFunction` which represents the following function:\n",
    "\n",
    "\\begin{equation}\n",
    "U(o) = f\\left(\\left\\{{g_i(o_i)}\\right\\}\\right)\n",
    "\\end{equation}\n",
    "\n",
    "where $g$ is a vector of functions defined as before and $f$ is a mapping from a vector of real-values to a single real value.\n",
    "\n",
    "For example, a seller's utility can be defined as:"
   ]
  },
  {
   "cell_type": "code",
   "execution_count": 35,
   "metadata": {},
   "outputs": [],
   "source": [
    "seller_utility =NonLinearUtilityAggregationFunction({\n",
    "                             'price': lambda x: x\n",
    "                           , 'number of items': lambda x: 0.5 * x\n",
    "                           , 'delivery': {'delivered': 1.0, 'not delivered': 0.0}}\n",
    "                   , f=lambda x: x['price']/x['number of items'] - 0.5 * x['delivery'])"
   ]
  },
  {
   "cell_type": "markdown",
   "metadata": {},
   "source": [
    "This utility will go up with the ``price`` and down with the ``number of items`` as expected but not in a linear fassion.\n",
    "\n",
    "We can now evaluate different options similar to the case for the buyer:"
   ]
  },
  {
   "cell_type": "code",
   "execution_count": 36,
   "metadata": {},
   "outputs": [
    {
     "name": "stdout",
     "output_type": "stream",
     "text": [
      "0.6666666666666666\n"
     ]
    }
   ],
   "source": [
    "print(seller_utility({'price': 1.0, 'number of items': 3, 'delivery': 'not delivered'}))"
   ]
  },
  {
   "cell_type": "code",
   "execution_count": 37,
   "metadata": {},
   "outputs": [
    {
     "name": "stdout",
     "output_type": "stream",
     "text": [
      "0.16666666666666663\n"
     ]
    }
   ],
   "source": [
    "print(seller_utility({'price': 1.0, 'number of items': 3, 'delivery': 'delivered'}))"
   ]
  },
  {
   "cell_type": "code",
   "execution_count": 38,
   "metadata": {},
   "outputs": [
    {
     "name": "stdout",
     "output_type": "stream",
     "text": [
      "0.7\n"
     ]
    }
   ],
   "source": [
    "print(seller_utility({'price': 1.8, 'number of items': 3, 'delivery': 'delivered'}))"
   ]
  },
  {
   "cell_type": "markdown",
   "metadata": {},
   "source": [
    " "
   ]
  },
  {
   "cell_type": "markdown",
   "metadata": {},
   "source": [
    "### Hyper Rectangle Utility Functions\n",
    "In many cases, it is not possible to define a utility mapping for every issue independently. We provide the utility function `HyperVolumeUtilityFunction` to handle this situation by allowing for representation of a set of nonlinear functions defined on arbitrary hypervolumes of the space of outcomes.\n",
    "\n",
    "The simplext example is a nonlinear-function that is defined over the whole space but that nonlinearly combines several issues to calculate the utility. \n",
    "\n",
    "For example the previous `NonLinearUtilityFunction` for the ``seller`` can be represented as follows:\n"
   ]
  },
  {
   "cell_type": "code",
   "execution_count": 39,
   "metadata": {},
   "outputs": [
    {
     "name": "stdout",
     "output_type": "stream",
     "text": [
      "0.6666666666666666\n",
      "0.16666666666666663\n",
      "0.7\n"
     ]
    }
   ],
   "source": [
    "seller_utility =HyperRectangleUtilityFunction(outcome_ranges= [None]\n",
    "                           , utilities= [lambda x: 2.0*x['price']/x['number of items'] \\\n",
    "                                           - 0.5 * int(x['delivery'] == 'delivered')])\n",
    "print(seller_utility({'price': 1.0, 'number of items': 3, 'delivery': 'not delivered'}))\n",
    "print(seller_utility({'price': 1.0, 'number of items': 3, 'delivery': 'delivered'}))\n",
    "print(seller_utility({'price': 1.8, 'number of items': 3, 'delivery': 'delivered'}))"
   ]
  },
  {
   "cell_type": "markdown",
   "metadata": {},
   "source": [
    "This function recovered exactly the same values as the `NonlinearUtilityFuction` defined earlier by defining a single hypervolume with the special value of `None` which applies the function to the whole space and then defining a single nonlinear function over the whole space to implement the required utiltiy mapping.\n",
    "\n",
    "`HyperVolumeUtilityFunction` was designed to a more complex situation in which you can have multiple nonlinear functions defined over different parts of the space of possible outcomes.\n",
    "\n",
    "Here is an example in which we combine one global utility function and two different local ones:\n"
   ]
  },
  {
   "cell_type": "code",
   "execution_count": 40,
   "metadata": {},
   "outputs": [],
   "source": [
    "f = HyperRectangleUtilityFunction(outcome_ranges=[None,\n",
    "                                            {0: (1.0, 2.0), 1: (1.0, 2.0)},\n",
    "                                            {0: (1.4, 2.0), 2: (2.0, 3.0)}]\n",
    "                                       , utilities=[5.0, 2.0, lambda x: 2 * x[2] + x[0]]\n",
    "                              , weights=[1,0.5,2.5])"
   ]
  },
  {
   "cell_type": "markdown",
   "metadata": {},
   "source": [
    "There are three nonlinear functions in this example:\n",
    "\n",
    "* A global function which gives a utility of ``5.0`` everywhere\n",
    "* A local function which gives a utility of ``2.0`` to any outcome for which the first issue (issue ``0``) has a value between ``1.0 and ``2.0`` and the second issue (issue ``1``) has a value between ``1.0`` and ``2.0`` which is represented as: ``{0: (1.0, 2.0), 1: (1.0, 2.0)}``\n",
    "* A second local function which gives a utility that depends on both the third and first issues ``(lambda x: 2 * x[2] + x[0]``) on the range ``{0: (1.4, 2.0), 2: (2.0, 3.0)}``.\n",
    "\n",
    "You can also have weights for combining these functions linearly. The default is just to sum all values from these functions to calculate the final utility.\n",
    "\n",
    "Here are some examples:\n",
    "* An outcome that falls in the range of all constraints:"
   ]
  },
  {
   "cell_type": "code",
   "execution_count": 41,
   "metadata": {},
   "outputs": [
    {
     "data": {
      "text/plain": [
       "22.25"
      ]
     },
     "execution_count": 41,
     "metadata": {},
     "output_type": "execute_result"
    }
   ],
   "source": [
    "f([1.5, 1.5, 2.5])"
   ]
  },
  {
   "cell_type": "markdown",
   "metadata": {},
   "source": [
    "* An outcome that falls in the range of the global and first local constraints only:"
   ]
  },
  {
   "cell_type": "code",
   "execution_count": 42,
   "metadata": {},
   "outputs": [
    {
     "data": {
      "text/plain": [
       "6.0"
      ]
     },
     "execution_count": 42,
     "metadata": {},
     "output_type": "execute_result"
    }
   ],
   "source": [
    "f([1.5, 1.5, 1.0])"
   ]
  },
  {
   "cell_type": "markdown",
   "metadata": {},
   "source": [
    "* An outcome that misses a value for some of the issues:"
   ]
  },
  {
   "cell_type": "code",
   "execution_count": 43,
   "metadata": {},
   "outputs": [
    {
     "name": "stdout",
     "output_type": "stream",
     "text": [
      "None\n"
     ]
    }
   ],
   "source": [
    "print(f([1.5, 1.5]))"
   ]
  },
  {
   "cell_type": "markdown",
   "metadata": {},
   "source": [
    "Notice that in this case, no utility is calculated because we do not know if the outcome falls within the range of the second local function or not. To allow such cases, the initializer of `HyperVolumeUtilityFunction` allows you to ignore such cases:"
   ]
  },
  {
   "cell_type": "code",
   "execution_count": 44,
   "metadata": {},
   "outputs": [
    {
     "name": "stdout",
     "output_type": "stream",
     "text": [
      "7.0\n"
     ]
    }
   ],
   "source": [
    "g = HyperRectangleUtilityFunction(outcome_ranges=[None,\n",
    "                                            {0: (1.0, 2.0), 1: (1.0, 2.0)},\n",
    "                                            {0: (1.4, 2.0), 2: (2.0, 3.0)}]\n",
    "                                       , utilities=[5.0, 2.0, lambda x: 2 * x[2] + x[0]]\n",
    "                               , ignore_failing_range_utilities=True\n",
    "                               , ignore_issues_not_in_input=True)\n",
    "print(g([1.5, 1.5]))"
   ]
  },
  {
   "cell_type": "markdown",
   "metadata": {},
   "source": [
    "### Nonlinear Hyper Rectangle Utility Functions\n",
    "`HyperVolumeUtilityFunction` should be able to handle most complex multi-issue utility evaluations but we provide a more general class called `NoneLinearHyperVolumeUtilityFunction` which replaces the simple weighted summation of local/global functions implemented in `HyperVolumeUtilityFunction` with a more general nonlinar mapping.\n",
    "\n",
    "The relation between `NoneLinearHyperVolumeUtilityFunction` and `HyperVolumeUtilityFunction` is exactly the same as that between `NonLinearUtilityAggregationFunction`  and `LinearUtilityAggregationFunction`"
   ]
  },
  {
   "cell_type": "markdown",
   "metadata": {},
   "source": [
    "## Other utility function types\n",
    "\n",
    "There are several other builtin utility function types in the utilities module. Operations for utility function serialization to and from xml as sell as normalization, finding pareto-frontier, generation of ufuns, etc are also available. Please check the documentation of the utilities module for more details"
   ]
  },
  {
   "cell_type": "code",
   "execution_count": 45,
   "metadata": {},
   "outputs": [
    {
     "name": "stdout",
     "output_type": "stream",
     "text": [
      "['UtilityDistribution',\n",
      " 'UtilityValue',\n",
      " 'UtilityFunction',\n",
      " 'ConstUFun',\n",
      " 'LinDiscountedUFun',\n",
      " 'ExpDiscountedUFun',\n",
      " 'MappingUtilityFunction',\n",
      " 'LinearUtilityAggregationFunction',\n",
      " 'NonLinearUtilityAggregationFunction',\n",
      " 'HyperRectangleUtilityFunction',\n",
      " 'NonlinearHyperRectangleUtilityFunction',\n",
      " 'ComplexWeightedUtilityFunction',\n",
      " 'ComplexNonlinearUtilityFunction',\n",
      " 'LinearUtilityFunction',\n",
      " 'IPUtilityFunction',\n",
      " 'pareto_frontier',\n",
      " 'make_discounted_ufun',\n",
      " 'normalize',\n",
      " 'JavaUtilityFunction',\n",
      " 'RandomUtilityFunction',\n",
      " 'INVALID_UTILITY',\n",
      " 'outcome_with_utility',\n",
      " 'utility_range']\n"
     ]
    }
   ],
   "source": [
    "from pprint import pprint\n",
    "pprint(negmas.utilities.__all__)"
   ]
  },
  {
   "cell_type": "markdown",
   "metadata": {},
   "source": [
    "## Negotiators\n",
    "Negotiations are conducted by negotiators. We reserve the term ``Agent`` to more complex entities that can interact with a simulation or the real world and spawn ``Negotiator`` objects as needed (see the situated module documentation). The base ``Negotiator`` are implemented in the `negotiators` module. The design of this module tried to achieve maximum flexibility by relying mostly on Mixins instead of inheretance for adding functionality as will be described later.\n",
    "\n",
    "Classes exposed in this module end with either ``Agent`` or ``Mixin``"
   ]
  },
  {
   "cell_type": "code",
   "execution_count": 46,
   "metadata": {},
   "outputs": [
    {
     "data": {
      "text/plain": [
       "['Negotiator',\n",
       " 'AspirationMixin',\n",
       " 'Controller',\n",
       " 'PassThroughNegotiator',\n",
       " 'EvaluatorMixin',\n",
       " 'RealComparatorMixin',\n",
       " 'BinaryComparatorMixin',\n",
       " 'NLevelsComparatorMixin',\n",
       " 'RankerMixin',\n",
       " 'RankerWithWeightsMixin',\n",
       " 'SorterMixin',\n",
       " 'EvaluatorNegotiator',\n",
       " 'RealComparatorNegotiator',\n",
       " 'BinaryComparatorNegotiator',\n",
       " 'NLevelsComparatorNegotiator',\n",
       " 'RankerNegotiator',\n",
       " 'RankerWithWeightsNegotiator',\n",
       " 'SorterNegotiator']"
      ]
     },
     "execution_count": 46,
     "metadata": {},
     "output_type": "execute_result"
    }
   ],
   "source": [
    "import negmas; negmas.negotiators.__all__"
   ]
  },
  {
   "cell_type": "markdown",
   "metadata": {},
   "source": [
    "To build your negotiator, you need to inherit from one class ending with ``Negotiator``, implement its abstract functions and then add whatever mixins you need implementing their abstract functions (if any) in turn."
   ]
  },
  {
   "cell_type": "markdown",
   "metadata": {},
   "source": [
    "Negotiators related to a specific negotiation mechanism are implemented in that mechanism's module. For example, negotiators designed for the Stacked Alternating Offers Mechanism are found in the ``sao`` module.\n",
    "\n",
    "\n",
    "### Agent (the base class of all negotiation agents)\n",
    "The base class of all agents is `Agent` which has three abstract methods that MUST be implemented by any agent you inherit from it:"
   ]
  },
  {
   "cell_type": "code",
   "execution_count": 47,
   "metadata": {},
   "outputs": [
    {
     "data": {
      "text/plain": [
       "['SAOState',\n",
       " 'SAOMechanism',\n",
       " 'SAOProtocol',\n",
       " 'SAONegotiator',\n",
       " 'RandomNegotiator',\n",
       " 'LimitedOutcomesNegotiator',\n",
       " 'LimitedOutcomesAcceptor',\n",
       " 'AspirationNegotiator',\n",
       " 'ToughNegotiator',\n",
       " 'OnlyBestNegotiator',\n",
       " 'NaiveTitForTatNegotiator',\n",
       " 'SimpleTitForTatNegotiator',\n",
       " 'NiceNegotiator',\n",
       " 'SAOController',\n",
       " 'JavaSAONegotiator',\n",
       " 'PassThroughSAONegotiator',\n",
       " 'SAOSyncController']"
      ]
     },
     "execution_count": 47,
     "metadata": {},
     "output_type": "execute_result"
    }
   ],
   "source": [
    "import negmas; negmas.sao.__all__"
   ]
  },
  {
   "cell_type": "markdown",
   "metadata": {},
   "source": [
    "There is a speical type of negotiators called ``GeniusNegotiator`` implemented in the ``genius`` module that is capable of interacting with negotiation sessions running in the genius platform (JVM). Please refer to the documentation of this module for more information."
   ]
  },
  {
   "cell_type": "markdown",
   "metadata": {},
   "source": [
    "## Mechanisms (Negotiations)\n",
    "The base ``Mechanism`` class is implemented in the `mechanisms` module.\n",
    "\n",
    "All protocols in the package inherit from the `Protocol` class and provide the following basic functionalities:\n",
    "\n",
    "* checking `capabilities` of agents against `requirements` of the protocol\n",
    "* allowing agents to be join and leave the negotiation under the control of the underlying protocol. For example the protocol may allow or disallow agents from entering the negotiation once it started, it may allow or disallow modifying the issues being negotiated, may allow only a predefined maximum and minimum number of agents to engage in the negotiation. All of this is controlled through parameters to the protocol initializer.\n",
    "* provide the basic flow of protcols so that new protcols can be implemented by just overriding a single `round()` function.\n",
    "* provide basic callbacks that can be extended by new protocols.\n",
    "<div class=\"alert alert-block alert-warning\"><b>\n",
    "Protocols must extend any callback (i.e. call the `super()` version) instead of overriding them as they may do some actions to ensure correct processing.\n",
    "    </b></div>\n",
    "    \n",
    "\n",
    "The simplest way to use a protocol is to just run one of the already provided protocols. This is an example of a full negotiation session:"
   ]
  },
  {
   "cell_type": "code",
   "execution_count": 48,
   "metadata": {},
   "outputs": [
    {
     "data": {
      "text/plain": [
       "(3,)"
      ]
     },
     "execution_count": 48,
     "metadata": {},
     "output_type": "execute_result"
    }
   ],
   "source": [
    "p = SAOMechanism(outcomes = 6, n_steps = 10)\n",
    "p.add(LimitedOutcomesNegotiator(name='seller', acceptable_outcomes=[(2,), (3,), (5,)]\n",
    "                                   , outcomes=p.outcomes))\n",
    "p.add(LimitedOutcomesNegotiator(name='buyer', acceptable_outcomes=[(1,), (4,), (3,)]\n",
    "                                   , outcomes=p.outcomes))\n",
    "state = p.run()\n",
    "p.state.agreement"
   ]
  },
  {
   "cell_type": "markdown",
   "metadata": {},
   "source": [
    "You can create a new protocol by overriding a single function in the `Protocol` class. This is for example the full code of the `AlternatingOffersProtcol` for the multi-issue case."
   ]
  },
  {
   "cell_type": "code",
   "execution_count": 51,
   "metadata": {},
   "outputs": [],
   "source": [
    "class MyAlternatingOffersProtocol(Mechanism):\n",
    "    def __init__(self, issues=None, outcomes=None, n_steps=None, time_limit=None):\n",
    "        super().__init__(issues=issues, outcomes=outcomes, n_steps=n_steps, time_limit=time_limit)\n",
    "        self.current_offer = None\n",
    "        self.current_offerer = None\n",
    "        self.n_accepting_agents = 0\n",
    "\n",
    "    def round(self):\n",
    "        end_negotiation = False\n",
    "        n_agents = len(self.negotiators)\n",
    "        accepted = False\n",
    "        for i, agent in enumerate(self.negotiators):\n",
    "            if self.current_offer is None:\n",
    "                response = ResponseType.NO_RESPONSE\n",
    "            else:\n",
    "                response = agent.respond(state=self.state, offer=self.current_offer)\n",
    "            if response == ResponseType.END_NEGOTIATION:\n",
    "                end_negotiation = True\n",
    "                self.current_offer = None\n",
    "            else:\n",
    "                if response != ResponseType.ACCEPT_OFFER:\n",
    "                    self.current_offer = agent.propose(state=self.state)\n",
    "                    self.current_offerer = i\n",
    "                    self.n_accepting_agents = 1\n",
    "                else:\n",
    "                    self.n_accepting_agents += 1\n",
    "                    if self.n_accepting_agents == n_agents:\n",
    "                        accepted = True\n",
    "                        break\n",
    "            if end_negotiation:\n",
    "                break\n",
    "        return MechanismRoundResult(broken=response == ResponseType.END_NEGOTIATION\n",
    "                                    , timedout=False\n",
    "                                    , agreement=self.current_offer if accepted else None)\n"
   ]
  },
  {
   "cell_type": "markdown",
   "metadata": {},
   "source": [
    "Agents can now engage in interactions with this protocol as easily as any built-in protocol:"
   ]
  },
  {
   "cell_type": "code",
   "execution_count": 52,
   "metadata": {},
   "outputs": [
    {
     "data": {
      "text/plain": [
       "(3,)"
      ]
     },
     "execution_count": 52,
     "metadata": {},
     "output_type": "execute_result"
    }
   ],
   "source": [
    "p = MyAlternatingOffersProtocol(outcomes = 6, n_steps = 10)\n",
    "p.add(LimitedOutcomesNegotiator(name='seller', acceptable_outcomes=[(2,), (3,), (5,)]\n",
    "                                   , outcomes=p.outcomes))\n",
    "p.add(LimitedOutcomesNegotiator(name='buyer', acceptable_outcomes=[(1,), (4,), (3,)]\n",
    "                                   , outcomes=p.outcomes))\n",
    "state = p.run()\n",
    "p.state.agreement"
   ]
  },
  {
   "cell_type": "markdown",
   "metadata": {},
   "source": [
    "The negotiation ran with the expected results\n"
   ]
  },
  {
   "cell_type": "code",
   "execution_count": null,
   "metadata": {},
   "outputs": [],
   "source": []
  }
 ],
 "metadata": {
  "kernelspec": {
   "display_name": "Python 3",
   "language": "python",
   "name": "python3"
  },
  "language_info": {
   "codemirror_mode": {
    "name": "ipython",
    "version": 3
   },
   "file_extension": ".py",
   "mimetype": "text/x-python",
   "name": "python",
   "nbconvert_exporter": "python",
   "pygments_lexer": "ipython3",
   "version": "3.7.5"
  },
  "toc": {
   "base_numbering": 1,
   "nav_menu": {},
   "number_sections": true,
   "sideBar": true,
   "skip_h1_title": false,
   "title_cell": "Table of Contents",
   "title_sidebar": "Contents",
   "toc_cell": false,
   "toc_position": {},
   "toc_section_display": true,
   "toc_window_display": false
  }
 },
 "nbformat": 4,
 "nbformat_minor": 1
}
