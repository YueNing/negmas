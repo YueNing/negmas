{
 "cells": [
  {
   "cell_type": "code",
   "execution_count": 1,
   "metadata": {},
   "outputs": [
    {
     "ename": "ModuleNotFoundError",
     "evalue": "No module named 'negmas.apps'",
     "output_type": "error",
     "traceback": [
      "\u001b[0;31m---------------------------------------------------------------------------\u001b[0m",
      "\u001b[0;31mModuleNotFoundError\u001b[0m                       Traceback (most recent call last)",
      "\u001b[0;32m<ipython-input-1-53dda74174ee>\u001b[0m in \u001b[0;36m<module>\u001b[0;34m\u001b[0m\n\u001b[1;32m      6\u001b[0m \u001b[0;32mimport\u001b[0m \u001b[0mnumpy\u001b[0m \u001b[0;32mas\u001b[0m \u001b[0mnp\u001b[0m\u001b[0;34m\u001b[0m\u001b[0;34m\u001b[0m\u001b[0m\n\u001b[1;32m      7\u001b[0m \u001b[0;32mfrom\u001b[0m \u001b[0mnegmas\u001b[0m \u001b[0;32mimport\u001b[0m \u001b[0;34m*\u001b[0m\u001b[0;34m\u001b[0m\u001b[0;34m\u001b[0m\u001b[0m\n\u001b[0;32m----> 8\u001b[0;31m \u001b[0;32mfrom\u001b[0m \u001b[0mnegmas\u001b[0m\u001b[0;34m.\u001b[0m\u001b[0mapps\u001b[0m\u001b[0;34m.\u001b[0m\u001b[0mscml\u001b[0m \u001b[0;32mimport\u001b[0m \u001b[0;34m*\u001b[0m\u001b[0;34m\u001b[0m\u001b[0;34m\u001b[0m\u001b[0m\n\u001b[0m\u001b[1;32m      9\u001b[0m \u001b[0;32mfrom\u001b[0m \u001b[0mnegmas\u001b[0m\u001b[0;34m.\u001b[0m\u001b[0mapps\u001b[0m\u001b[0;34m.\u001b[0m\u001b[0mscml\u001b[0m \u001b[0;32mimport\u001b[0m \u001b[0mInput\u001b[0m\u001b[0;34m,\u001b[0m \u001b[0mOutput\u001b[0m\u001b[0;34m,\u001b[0m \u001b[0mJob\u001b[0m\u001b[0;34m,\u001b[0m \u001b[0mFactoryStatusUpdate\u001b[0m\u001b[0;34m\u001b[0m\u001b[0;34m\u001b[0m\u001b[0m\n\u001b[1;32m     10\u001b[0m \u001b[0;32mfrom\u001b[0m \u001b[0mnegmas\u001b[0m\u001b[0;34m.\u001b[0m\u001b[0msituated\u001b[0m \u001b[0;32mimport\u001b[0m \u001b[0mContract\u001b[0m\u001b[0;34m\u001b[0m\u001b[0;34m\u001b[0m\u001b[0m\n",
      "\u001b[0;31mModuleNotFoundError\u001b[0m: No module named 'negmas.apps'"
     ]
    }
   ],
   "source": [
    "import os\n",
    "import pathlib\n",
    "import math\n",
    "import itertools\n",
    "import pandas as pd\n",
    "import numpy as np\n",
    "from negmas import *\n",
    "from negmas.apps.scml import *\n",
    "from negmas.apps.scml import Input, Output, Job, FactoryStatusUpdate\n",
    "from negmas.situated import Contract"
   ]
  },
  {
   "cell_type": "code",
   "execution_count": null,
   "metadata": {},
   "outputs": [],
   "source": [
    "# setup disply parameters\n",
    "%pylab inline\n",
    "from IPython.core.display import display, HTML\n",
    "display(HTML(\"<style>.container { width:95% !important; }</style>\"))\n",
    "%config InlineBackend.figure_format = 'retina'\n",
    "VARY_SMALL_SIZE = 24\n",
    "SMALL_SIZE = 36\n",
    "MEDIUM_SIZE = 48\n",
    "BIGGER_SIZE = 64\n",
    "\n",
    "plt.rc('font', size=SMALL_SIZE)          # controls default text sizes\n",
    "plt.rc('axes', titlesize=SMALL_SIZE)     # fontsize of the axes title\n",
    "plt.rc('axes', labelsize=MEDIUM_SIZE)    # fontsize of the x and y labels\n",
    "plt.rc('xtick', labelsize=SMALL_SIZE)    # fontsize of the tick labels\n",
    "plt.rc('ytick', labelsize=VARY_SMALL_SIZE)    # fontsize of the tick labels\n",
    "plt.rc('legend', fontsize=SMALL_SIZE)    # legend fontsize\n",
    "plt.rc('figure', titlesize=BIGGER_SIZE)  # fontsize of the figure title\n",
    "pylab.rcParams['figure.figsize'] = (24, 6)\n",
    "plt.rc('lines', linewidth=3)"
   ]
  },
  {
   "cell_type": "code",
   "execution_count": null,
   "metadata": {},
   "outputs": [],
   "source": [
    "n_steps = 10\n",
    "horizon = 4\n",
    "world = SCMLWorld.tiny(n_intermediate_levels=0, log_file_name='', n_miners=2, n_consumers=2, n_factories_per_level=2, n_steps=n_steps, default_signing_delay=0\n",
    "                       , allow_immediate_negotiations=False, consumer_kwargs={'immediate_cfp_update': True\n",
    "        , 'consumption_horizon': horizon}, negotiation_speed_multiplier=None, neg_n_steps=5)\n",
    "world.run()\n",
    "data=None\n",
    "if len(world.saved_contracts) > 0:\n",
    "    data = pd.DataFrame(data=world.saved_contracts).loc[:, [\"buyer\", \"seller\", \"product\", \"quantity\", \"delivery_time\"\n",
    "        , \"unit_price\", \"penalty\", \"signing_delay\", \"concluded_at\", \"signed_at\", \"issues\", \"cfp\"]]\n",
    "data"
   ]
  },
  {
   "cell_type": "code",
   "execution_count": null,
   "metadata": {},
   "outputs": [],
   "source": [
    "pd.DataFrame(data=world.stats)"
   ]
  },
  {
   "cell_type": "code",
   "execution_count": null,
   "metadata": {},
   "outputs": [],
   "source": []
  },
  {
   "cell_type": "code",
   "execution_count": null,
   "metadata": {},
   "outputs": [],
   "source": []
  }
 ],
 "metadata": {
  "kernelspec": {
   "display_name": "Python 3",
   "language": "python",
   "name": "python3"
  },
  "language_info": {
   "codemirror_mode": {
    "name": "ipython",
    "version": 3
   },
   "file_extension": ".py",
   "mimetype": "text/x-python",
   "name": "python",
   "nbconvert_exporter": "python",
   "pygments_lexer": "ipython3",
   "version": "3.7.5"
  },
  "toc": {
   "base_numbering": 1,
   "nav_menu": {},
   "number_sections": true,
   "sideBar": true,
   "skip_h1_title": false,
   "title_cell": "Table of Contents",
   "title_sidebar": "Contents",
   "toc_cell": false,
   "toc_position": {},
   "toc_section_display": true,
   "toc_window_display": false
  }
 },
 "nbformat": 4,
 "nbformat_minor": 2
}
